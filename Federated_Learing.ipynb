{
 "cells": [
  {
   "cell_type": "markdown",
   "id": "7794bf3c",
   "metadata": {},
   "source": [
    "# Federated Learning\n",
    "```\n",
    "It's not a real Federated environment.  \n",
    "We'll just see the summerizing method for the locals' weights\n",
    "\n",
    "if you cannot access the data to train your model, to train the private data, you can transfer the model, instead of transfer of data. In the each local which have their own dataset, \n",
    "the locals take your model and train it with their dataset. \n",
    " After a few epochs of training, the local models have trained in the different directions.\n",
    "To update the global model, just gather all local model not the data, And make the averages of weights for the local models, then you will get the updated global model.\n",
    "```"
   ]
  },
  {
   "cell_type": "code",
   "execution_count": 1,
   "id": "e6a5ebe0",
   "metadata": {},
   "outputs": [
    {
     "name": "stderr",
     "output_type": "stream",
     "text": [
      "C:\\Users\\zhi12\\.conda\\envs\\GCN_STUDY\\lib\\site-packages\\tqdm\\auto.py:22: TqdmWarning: IProgress not found. Please update jupyter and ipywidgets. See https://ipywidgets.readthedocs.io/en/stable/user_install.html\n",
      "  from .autonotebook import tqdm as notebook_tqdm\n"
     ]
    }
   ],
   "source": [
    "import torch\n",
    "import torch.nn as nn\n",
    "import torch.nn.functional as F\n",
    "import torch.optim as optim\n",
    "import torchvision\n",
    "import torchvision.transforms as transforms\n",
    "from torch.utils.data import DataLoader\n",
    "\n",
    "from IPython.display import clear_output \n",
    "\n",
    "import os\n",
    "import random\n",
    "import matplotlib.pyplot as plt\n",
    "import numpy as np"
   ]
  },
  {
   "cell_type": "code",
   "execution_count": 2,
   "id": "2085d346",
   "metadata": {
    "scrolled": false
   },
   "outputs": [
    {
     "name": "stdout",
     "output_type": "stream",
     "text": [
      " device: cuda\n"
     ]
    }
   ],
   "source": [
    "device = \"cuda\" if torch.cuda.is_available() else \"cpu\"\n",
    "print(f\" device: {device}\")\n",
    "device = \"cpu\""
   ]
  },
  {
   "cell_type": "markdown",
   "id": "08c29e18",
   "metadata": {},
   "source": [
    "### DATASET"
   ]
  },
  {
   "cell_type": "code",
   "execution_count": 3,
   "id": "beb98118",
   "metadata": {},
   "outputs": [],
   "source": [
    "def load_data(root, batch_size):\n",
    "    mnist_train = torchvision.datasets.FashionMNIST(root=root,\n",
    "                                                     transform=transforms.ToTensor(),\n",
    "                                                     train=True,\n",
    "                                                     download=True)\n",
    "\n",
    "    mnist_test = torchvision.datasets.FashionMNIST(root=root,\n",
    "                                                    transform=transforms.ToTensor(),\n",
    "                                                    train=False,\n",
    "                                                    download=True)\n",
    "    \n",
    "    data_loader = DataLoader(dataset=mnist_train,\n",
    "                             batch_size=batch_size,\n",
    "                             shuffle=True,\n",
    "                             drop_last=True)\n",
    "\n",
    "    return data_loader, mnist_train, mnist_test\n"
   ]
  },
  {
   "cell_type": "markdown",
   "id": "58204079",
   "metadata": {},
   "source": [
    "### IID DATASET builder"
   ]
  },
  {
   "cell_type": "code",
   "execution_count": 4,
   "id": "612b33db",
   "metadata": {},
   "outputs": [],
   "source": [
    "def get_data_split(num_locals:int, dataset:object, IID=True, batch_size=50):\n",
    "    # split data\n",
    "    # num_local = the number of locals\n",
    "    # dataset = the dataset you wanna split\n",
    "    \n",
    "    data_num_list = [60000 //num_locals] * num_locals        \n",
    "    \n",
    "    if IID:\n",
    "        datasets = torch.utils.data.random_split(dataset, data_num_list)       \n",
    "        data = []\n",
    "        for i in range(num_locals):\n",
    "            X = DataLoader(dataset=datasets[i],\n",
    "                           batch_size=batch_size,\n",
    "                           shuffle=True,\n",
    "                           drop_last=False)\n",
    "            data.append(X)\n",
    "            \n",
    "    else:  # NON-IID: Not Yet..\n",
    "        pass        \n",
    "    \n",
    "    return data\n"
   ]
  },
  {
   "cell_type": "markdown",
   "id": "51d618d7",
   "metadata": {},
   "source": [
    "## Define Model"
   ]
  },
  {
   "cell_type": "code",
   "execution_count": 5,
   "id": "86015fbf",
   "metadata": {},
   "outputs": [],
   "source": [
    "class CNN(torch.nn.Module):\n",
    "    def __init__(self):\n",
    "        super(CNN, self).__init__()\n",
    "            \n",
    "        self.layer1 = torch.nn.Sequential(\n",
    "            torch.nn.Conv2d(1, 32, kernel_size=3, stride=1, padding=1),\n",
    "            torch.nn.ReLU(),\n",
    "            torch.nn.MaxPool2d(kernel_size=2, stride=2))\n",
    "    \n",
    "        self.layer2 = torch.nn.Sequential(\n",
    "            torch.nn.Conv2d(32, 16, kernel_size=3, stride=1, padding=1),\n",
    "            torch.nn.ReLU(),\n",
    "            torch.nn.MaxPool2d(kernel_size=2, stride=2))\n",
    "        \n",
    "        self.layer3 = torch.nn.Sequential(\n",
    "            torch.nn.Linear(784, 256, bias=True),\n",
    "            torch.nn.ReLU())\n",
    "        \n",
    "        self.layer4 = torch.nn.Sequential(\n",
    "            torch.nn.Linear(256, 10, bias=True))\n",
    "\n",
    "        \n",
    "    def forward(self, x):\n",
    "        out = self.layer1(x)\n",
    "        out = self.layer2(out)\n",
    "        out = out.view(out.size(0), -1)\n",
    "        out = self.layer3(out)\n",
    "        out = self.layer4(out)\n",
    "        return out\n",
    "    \n"
   ]
  },
  {
   "cell_type": "code",
   "execution_count": 6,
   "id": "87bd6c50",
   "metadata": {},
   "outputs": [],
   "source": [
    "# the number of locals\n",
    "# the dataset and locals will be splited in this number.\n",
    "num_locals = 100\n",
    "\n",
    "# make global model and locals\n",
    "global_model = CNN()\n",
    "local_models = [CNN() for i in range(num_locals)]\n",
    "\n",
    "# make datasets\n",
    "root = \"./DATA\"\n",
    "batch_size = 100\n",
    "data_loader, mnist_train, mnist_test = load_data(root, batch_size)\n",
    "local_train = get_data_split(num_locals=num_locals, dataset=mnist_train)"
   ]
  },
  {
   "cell_type": "markdown",
   "id": "896dc6dd",
   "metadata": {},
   "source": [
    "### Weight Load Method"
   ]
  },
  {
   "cell_type": "code",
   "execution_count": 7,
   "id": "a674b9c6",
   "metadata": {},
   "outputs": [],
   "source": [
    "# load from global model\n",
    "def weight_load():\n",
    "    for local_model in local_models:\n",
    "        global_weight = global_model.state_dict()\n",
    "        local_model.load_state_dict(global_weight)"
   ]
  },
  {
   "cell_type": "markdown",
   "id": "2f287dcb",
   "metadata": {},
   "source": [
    "### Update Method"
   ]
  },
  {
   "cell_type": "code",
   "execution_count": 8,
   "id": "4e31db6a",
   "metadata": {},
   "outputs": [],
   "source": [
    "from collections import OrderedDict\n",
    "# update from global model\n",
    "def weight_update(update_list:list):\n",
    "    num = sum(update_list)\n",
    "    avg_weights = OrderedDict()\n",
    "\n",
    "    for local_model, update in zip(local_models, update_list):\n",
    "        if update:\n",
    "            local_weights = local_model.state_dict()\n",
    "            for key in local_model.state_dict().keys():\n",
    "                if avg_weights.get(key) == None:\n",
    "                    avg_weights[key] = local_weights[key] / num\n",
    "            \n",
    "                else:\n",
    "                    avg_weights[key] += local_weights[key] / num\n",
    "                    \n",
    "    global_model.load_state_dict(avg_weights)\n",
    "            "
   ]
  },
  {
   "cell_type": "markdown",
   "id": "600ef788",
   "metadata": {},
   "source": [
    "###  Train Locals method"
   ]
  },
  {
   "cell_type": "code",
   "execution_count": 9,
   "id": "2d0e3a25",
   "metadata": {
    "scrolled": true
   },
   "outputs": [],
   "source": [
    "def train_locals(epoch=1):\n",
    "    loss_function = nn.CrossEntropyLoss()\n",
    "    \n",
    "    for idx, [local_model, local_data] in enumerate(zip(local_models, local_train)):\n",
    "        optimizer = optim.Adam(local_model.parameters())\n",
    "        print(f\"local: {idx+1:03}/{num_locals}\", end=\"\\r\")\n",
    "        local_model.train()\n",
    "\n",
    "        for e in range(epoch): \n",
    "            for x, y in local_data:\n",
    "                x = x.to(device)\n",
    "                optimizer.zero_grad()\n",
    "                y_predict = local_model(x)\n",
    "\n",
    "                loss = loss_function(y_predict, y)\n",
    "                loss.backward()\n",
    "                optimizer.step()\n",
    "    print(\" \"*50, end=\"\\r\")"
   ]
  },
  {
   "cell_type": "markdown",
   "id": "94b10f2e",
   "metadata": {},
   "source": [
    "### Check performance"
   ]
  },
  {
   "cell_type": "code",
   "execution_count": 10,
   "id": "bdccfcc8",
   "metadata": {},
   "outputs": [],
   "source": [
    "def check_performance(test_data):\n",
    "    global_model.eval()\n",
    "    cnt = 0\n",
    "    for x, y in test_data:\n",
    "        x = x.to(device)\n",
    "        y_predict = global_model(x.reshape(1, 1, 28, 28))\n",
    "        y_predict = torch.argmax(y_predict)\n",
    "        if y_predict == y:\n",
    "            cnt += 1\n",
    "    return cnt / len(test_data)"
   ]
  },
  {
   "cell_type": "markdown",
   "id": "0eeb6db1",
   "metadata": {},
   "source": [
    "# [1] Decentralized Training (federated learning)"
   ]
  },
  {
   "cell_type": "code",
   "execution_count": 11,
   "id": "2ee3f625",
   "metadata": {},
   "outputs": [
    {
     "name": "stdout",
     "output_type": "stream",
     "text": [
      "round: 1/10\n",
      "61.13%                                            \n",
      "round: 2/10\n",
      "66.34%                                            \n",
      "round: 3/10\n",
      "70.50%                                            \n",
      "round: 4/10\n",
      "71.79%                                            \n",
      "round: 5/10\n",
      "73.87%                                            \n",
      "round: 6/10\n",
      "74.49%                                            \n",
      "round: 7/10\n",
      "75.62%                                            \n",
      "round: 8/10\n",
      "76.23%                                            \n",
      "round: 9/10\n",
      "76.92%                                            \n",
      "round: 10/10\n",
      "77.60%                                            \n",
      "fin\n"
     ]
    }
   ],
   "source": [
    "num_round = 10\n",
    "acc_list = []\n",
    "for i in range(num_round):\n",
    "    print(f\"round: {i+1}/{num_round}\")\n",
    "    \n",
    "    # 1. load weights from the global to each local\n",
    "    weight_load()\n",
    "    \n",
    "    # 2. train locals seperately\n",
    "    train_locals(epoch=1)\n",
    "    \n",
    "    # 3. check \n",
    "    update_list = [1] * num_locals \n",
    "    \n",
    "    # 4. update locals' weights to the global\n",
    "    weight_update(update_list=update_list)\n",
    "    \n",
    "    # 5. check performance\n",
    "    acc = check_performance(mnist_test)\n",
    "    acc_list.append(acc)\n",
    "    print(f'{acc:.2%}')\n",
    "    \n",
    "print(\"fin\")"
   ]
  },
  {
   "cell_type": "markdown",
   "id": "3c76e5d9",
   "metadata": {},
   "source": [
    "# [2] Centralized training"
   ]
  },
  {
   "cell_type": "code",
   "execution_count": 12,
   "id": "69e31da2",
   "metadata": {},
   "outputs": [
    {
     "name": "stdout",
     "output_type": "stream",
     "text": [
      "round: 1/10\n",
      "85.01%\n",
      "round: 2/10\n",
      "87.45%\n",
      "round: 3/10\n",
      "88.03%\n",
      "round: 4/10\n",
      "89.51%\n",
      "round: 5/10\n",
      "90.18%\n",
      "round: 6/10\n",
      "90.04%\n",
      "round: 7/10\n",
      "90.62%\n",
      "round: 8/10\n",
      "90.84%\n",
      "round: 9/10\n",
      "90.76%\n",
      "round: 10/10\n",
      "91.57%\n",
      "fin\n"
     ]
    }
   ],
   "source": [
    "global_model = CNN()\n",
    "\n",
    "optimizer = optim.Adam(global_model.parameters())\n",
    "loss_function = nn.CrossEntropyLoss()\n",
    "acc_list2 = [] \n",
    "for i in range(num_round):\n",
    "    print(f\"round: {i+1}/{num_round}\")\n",
    "    global_model.train()\n",
    "    for x, y in data_loader:\n",
    "        x = x.to(device)\n",
    "        optimizer.zero_grad()\n",
    "        y_predict = global_model(x)\n",
    "        \n",
    "        loss = loss_function(y_predict, y)\n",
    "        loss.backward()\n",
    "        optimizer.step()\n",
    "        \n",
    "    acc = check_performance(mnist_test)\n",
    "    acc_list2.append(acc)\n",
    "    print(f'{acc:.2%}')\n",
    "    \n",
    "print(\"fin\")"
   ]
  },
  {
   "cell_type": "markdown",
   "id": "ed4ba931",
   "metadata": {},
   "source": [
    "## Comparison"
   ]
  },
  {
   "cell_type": "code",
   "execution_count": 27,
   "id": "c81a4164",
   "metadata": {},
   "outputs": [
    {
     "data": {
      "image/png": "[encoded data removed]",
      "text/plain": [
       "<Figure size 432x288 with 1 Axes>"
      ]
     },
     "metadata": {
      "needs_background": "light"
     },
     "output_type": "display_data"
    }
   ],
   "source": [
    "x_axis = list(range(1, num_round+1))\n",
    "plt.plot(x_axis, acc_list,'r',label=\"Federated Learning\")\n",
    "plt.plot(x_axis, acc_list2,'b',label=\"Centralized Learning\")\n",
    "plt.legend(fontsize=15)\n",
    "plt.show()"
   ]
  },
  {
   "cell_type": "markdown",
   "id": "5bf4ab70",
   "metadata": {},
   "source": [
    "# Conclusion\n",
    "```\n",
    "Eventhough, the performance is not as good as the centeralized learning, the model can learn.\n",
    "The final goal of Federated Learning is to make model learning like models which are in the centeralized environments.\n",
    "```"
   ]
  },
  {
   "cell_type": "code",
   "execution_count": null,
   "id": "10e7d5a8",
   "metadata": {},
   "outputs": [],
   "source": []
  }
 ],
 "metadata": {
  "kernelspec": {
   "display_name": "Python 3 (ipykernel)",
   "language": "python",
   "name": "python3"
  },
  "language_info": {
   "codemirror_mode": {
    "name": "ipython",
    "version": 3
   },
   "file_extension": ".py",
   "mimetype": "text/x-python",
   "name": "python",
   "nbconvert_exporter": "python",
   "pygments_lexer": "ipython3",
   "version": "3.9.12"
  }
 },
 "nbformat": 4,
 "nbformat_minor": 5
}
